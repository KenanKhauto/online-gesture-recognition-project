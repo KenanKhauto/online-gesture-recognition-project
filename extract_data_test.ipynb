{
 "cells": [
  {
   "cell_type": "code",
   "execution_count": 15,
   "metadata": {},
   "outputs": [],
   "source": [
    "import pandas as pd\n",
    "import numpy as np\n",
    "import os\n",
    "from dataset.loader import GestureDataset\n",
    "import torch\n",
    "from torch.utils.data import DataLoader"
   ]
  },
  {
   "cell_type": "code",
   "execution_count": 3,
   "metadata": {},
   "outputs": [],
   "source": [
    "path_annotations = \"./IPN_Hand/annotations-20231128T085307Z-001/annotations\"\n",
    "col_names = [\"video_name\", \"label\", \"label_id\", \"start_frame\", \"end_frame\", \"num_frames\"]\n",
    "an_df = pd.read_csv(path_annotations + \"/Annot_TrainList.txt\", header=None, names=col_names, delimiter=\",\")"
   ]
  },
  {
   "cell_type": "code",
   "execution_count": 4,
   "metadata": {},
   "outputs": [
    {
     "name": "stdout",
     "output_type": "stream",
     "text": [
      "Number of Videos: 4039\n"
     ]
    },
    {
     "data": {
      "text/html": [
       "<div>\n",
       "<style scoped>\n",
       "    .dataframe tbody tr th:only-of-type {\n",
       "        vertical-align: middle;\n",
       "    }\n",
       "\n",
       "    .dataframe tbody tr th {\n",
       "        vertical-align: top;\n",
       "    }\n",
       "\n",
       "    .dataframe thead th {\n",
       "        text-align: right;\n",
       "    }\n",
       "</style>\n",
       "<table border=\"1\" class=\"dataframe\">\n",
       "  <thead>\n",
       "    <tr style=\"text-align: right;\">\n",
       "      <th></th>\n",
       "      <th>video_name</th>\n",
       "      <th>label</th>\n",
       "      <th>label_id</th>\n",
       "      <th>start_frame</th>\n",
       "      <th>end_frame</th>\n",
       "      <th>num_frames</th>\n",
       "    </tr>\n",
       "  </thead>\n",
       "  <tbody>\n",
       "    <tr>\n",
       "      <th>0</th>\n",
       "      <td>1CM1_4_R_#229</td>\n",
       "      <td>D0X</td>\n",
       "      <td>1</td>\n",
       "      <td>1</td>\n",
       "      <td>17</td>\n",
       "      <td>17</td>\n",
       "    </tr>\n",
       "    <tr>\n",
       "      <th>1</th>\n",
       "      <td>1CM1_4_R_#229</td>\n",
       "      <td>G11</td>\n",
       "      <td>14</td>\n",
       "      <td>18</td>\n",
       "      <td>55</td>\n",
       "      <td>38</td>\n",
       "    </tr>\n",
       "    <tr>\n",
       "      <th>2</th>\n",
       "      <td>1CM1_4_R_#229</td>\n",
       "      <td>B0B</td>\n",
       "      <td>3</td>\n",
       "      <td>56</td>\n",
       "      <td>284</td>\n",
       "      <td>229</td>\n",
       "    </tr>\n",
       "    <tr>\n",
       "      <th>3</th>\n",
       "      <td>1CM1_4_R_#229</td>\n",
       "      <td>G04</td>\n",
       "      <td>7</td>\n",
       "      <td>285</td>\n",
       "      <td>308</td>\n",
       "      <td>24</td>\n",
       "    </tr>\n",
       "    <tr>\n",
       "      <th>4</th>\n",
       "      <td>1CM1_4_R_#229</td>\n",
       "      <td>B0B</td>\n",
       "      <td>3</td>\n",
       "      <td>309</td>\n",
       "      <td>502</td>\n",
       "      <td>194</td>\n",
       "    </tr>\n",
       "  </tbody>\n",
       "</table>\n",
       "</div>"
      ],
      "text/plain": [
       "      video_name label  label_id  start_frame  end_frame  num_frames\n",
       "0  1CM1_4_R_#229   D0X         1            1         17          17\n",
       "1  1CM1_4_R_#229   G11        14           18         55          38\n",
       "2  1CM1_4_R_#229   B0B         3           56        284         229\n",
       "3  1CM1_4_R_#229   G04         7          285        308          24\n",
       "4  1CM1_4_R_#229   B0B         3          309        502         194"
      ]
     },
     "execution_count": 4,
     "metadata": {},
     "output_type": "execute_result"
    }
   ],
   "source": [
    "print(f\"Number of Videos: {an_df.shape[0]}\")\n",
    "an_df[:5]"
   ]
  },
  {
   "cell_type": "code",
   "execution_count": 5,
   "metadata": {},
   "outputs": [
    {
     "data": {
      "text/html": [
       "<div>\n",
       "<style scoped>\n",
       "    .dataframe tbody tr th:only-of-type {\n",
       "        vertical-align: middle;\n",
       "    }\n",
       "\n",
       "    .dataframe tbody tr th {\n",
       "        vertical-align: top;\n",
       "    }\n",
       "\n",
       "    .dataframe thead th {\n",
       "        text-align: right;\n",
       "    }\n",
       "</style>\n",
       "<table border=\"1\" class=\"dataframe\">\n",
       "  <thead>\n",
       "    <tr style=\"text-align: right;\">\n",
       "      <th></th>\n",
       "      <th>video_name</th>\n",
       "      <th>label</th>\n",
       "      <th>label_id</th>\n",
       "      <th>start_frame</th>\n",
       "      <th>end_frame</th>\n",
       "      <th>num_frames</th>\n",
       "    </tr>\n",
       "  </thead>\n",
       "  <tbody>\n",
       "    <tr>\n",
       "      <th>1655</th>\n",
       "      <td>1CV12_1_R_#65</td>\n",
       "      <td>D0X</td>\n",
       "      <td>1</td>\n",
       "      <td>1</td>\n",
       "      <td>97</td>\n",
       "      <td>97</td>\n",
       "    </tr>\n",
       "    <tr>\n",
       "      <th>1656</th>\n",
       "      <td>1CV12_1_R_#65</td>\n",
       "      <td>G11</td>\n",
       "      <td>14</td>\n",
       "      <td>98</td>\n",
       "      <td>152</td>\n",
       "      <td>55</td>\n",
       "    </tr>\n",
       "    <tr>\n",
       "      <th>1657</th>\n",
       "      <td>1CV12_1_R_#65</td>\n",
       "      <td>B0B</td>\n",
       "      <td>3</td>\n",
       "      <td>153</td>\n",
       "      <td>356</td>\n",
       "      <td>204</td>\n",
       "    </tr>\n",
       "    <tr>\n",
       "      <th>1658</th>\n",
       "      <td>1CV12_1_R_#65</td>\n",
       "      <td>G07</td>\n",
       "      <td>10</td>\n",
       "      <td>357</td>\n",
       "      <td>458</td>\n",
       "      <td>102</td>\n",
       "    </tr>\n",
       "  </tbody>\n",
       "</table>\n",
       "</div>"
      ],
      "text/plain": [
       "         video_name label  label_id  start_frame  end_frame  num_frames\n",
       "1655  1CV12_1_R_#65   D0X         1            1         97          97\n",
       "1656  1CV12_1_R_#65   G11        14           98        152          55\n",
       "1657  1CV12_1_R_#65   B0B         3          153        356         204\n",
       "1658  1CV12_1_R_#65   G07        10          357        458         102"
      ]
     },
     "execution_count": 5,
     "metadata": {},
     "output_type": "execute_result"
    }
   ],
   "source": [
    "an_df[an_df[\"video_name\"] == \"1CV12_1_R_#65\"][:4]"
   ]
  },
  {
   "cell_type": "code",
   "execution_count": 6,
   "metadata": {},
   "outputs": [],
   "source": [
    "annotations_train = \"Annot_TrainList.txt\"\n",
    "annotations_test = \"Annot_TestList.txt\"\n",
    "\n",
    "file_train = os.path.join(\".\", \"IPN_Hand\",\"annotations-20231128T085307Z-001\", \"annotations\", annotations_train)\n",
    "file_test = os.path.join(\".\", \"IPN_Hand\",\"annotations-20231128T085307Z-001\", \"annotations\", annotations_test)\n",
    "frame_folders = os.path.join(\".\", \"IPN_Hand\", \"frames\")"
   ]
  },
  {
   "cell_type": "code",
   "execution_count": 7,
   "metadata": {},
   "outputs": [],
   "source": [
    "ds_train = GestureDataset(frame_folders, file_train)\n",
    "ds_test = GestureDataset(frame_folders, file_test)"
   ]
  },
  {
   "cell_type": "code",
   "execution_count": 8,
   "metadata": {},
   "outputs": [
    {
     "data": {
      "text/plain": [
       "4039"
      ]
     },
     "execution_count": 8,
     "metadata": {},
     "output_type": "execute_result"
    }
   ],
   "source": [
    "len(ds_train)"
   ]
  },
  {
   "cell_type": "code",
   "execution_count": 9,
   "metadata": {},
   "outputs": [
    {
     "data": {
      "text/plain": [
       "1610"
      ]
     },
     "execution_count": 9,
     "metadata": {},
     "output_type": "execute_result"
    }
   ],
   "source": [
    "len(ds_test)"
   ]
  },
  {
   "cell_type": "code",
   "execution_count": 20,
   "metadata": {},
   "outputs": [
    {
     "data": {
      "text/plain": [
       "<torch.utils.data.dataloader.DataLoader at 0x1babc4f92d0>"
      ]
     },
     "execution_count": 20,
     "metadata": {},
     "output_type": "execute_result"
    }
   ],
   "source": [
    "train_dataloader = DataLoader(ds_train, batch_size=64)\n",
    "train_dataloader"
   ]
  },
  {
   "cell_type": "code",
   "execution_count": 33,
   "metadata": {},
   "outputs": [],
   "source": [
    "X_train_batch, y_train_batch, labels_batch = next(iter(train_dataloader))\n"
   ]
  },
  {
   "cell_type": "code",
   "execution_count": 34,
   "metadata": {},
   "outputs": [
    {
     "name": "stdout",
     "output_type": "stream",
     "text": [
      "torch.Size([64, 142, 240, 320, 3])\n",
      "torch.Size([64])\n"
     ]
    }
   ],
   "source": [
    "print(X_train_batch.shape)\n",
    "print(y_train_batch.shape)"
   ]
  },
  {
   "cell_type": "code",
   "execution_count": null,
   "metadata": {},
   "outputs": [],
   "source": []
  }
 ],
 "metadata": {
  "kernelspec": {
   "display_name": "Python 3",
   "language": "python",
   "name": "python3"
  },
  "language_info": {
   "codemirror_mode": {
    "name": "ipython",
    "version": 3
   },
   "file_extension": ".py",
   "mimetype": "text/x-python",
   "name": "python",
   "nbconvert_exporter": "python",
   "pygments_lexer": "ipython3",
   "version": "3.10.0"
  }
 },
 "nbformat": 4,
 "nbformat_minor": 2
}
