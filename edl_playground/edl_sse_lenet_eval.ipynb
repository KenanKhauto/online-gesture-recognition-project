{
 "cells": [
  {
   "cell_type": "code",
   "execution_count": 13,
   "metadata": {},
   "outputs": [
    {
     "name": "stdout",
     "output_type": "stream",
     "text": [
      "The autoreload extension is already loaded. To reload it, use:\n",
      "  %reload_ext autoreload\n",
      "Use CUDA: True\n",
      "Use MPS: True\n",
      "\n",
      "Test set: Accuracy (u <= 0.5): 8866/10000 (88.66%)\n",
      "\tAccuracy (regardless of u): 9614/10000 (96.14%)\n",
      "\n"
     ]
    }
   ],
   "source": [
    "%matplotlib inline\n",
    "%load_ext autoreload\n",
    "%autoreload 2\n",
    "\n",
    "import torch\n",
    "import numpy as np\n",
    "\n",
    "from main import main, create_parser\n",
    "\n",
    "seed = 42\n",
    "np.random.seed(seed)\n",
    "torch.manual_seed(seed)\n",
    "torch.cuda.manual_seed(seed)\n",
    "torch.backends.cudnn.deterministic = True\n",
    "\n",
    "parser = create_parser()\n",
    "args = parser.parse_args(args=[\n",
    "    \"eval\",\n",
    "    \"--dataset\", \"mnist\",\n",
    "    \"--model\", \"lenet\",\n",
    "    \"--uncertainty\",\n",
    "\n",
    "    \"--checkpoint\", \"./checkpoints/mnist_lenet_sse_kl_best.pt\",\n",
    "\n",
    "    \"--uncertainty-thresh\", \"0.5\",\n",
    "])\n",
    "main(args);"
   ]
  },
  {
   "cell_type": "code",
   "execution_count": 14,
   "metadata": {},
   "outputs": [
    {
     "name": "stdout",
     "output_type": "stream",
     "text": [
      "The autoreload extension is already loaded. To reload it, use:\n",
      "  %reload_ext autoreload\n",
      "Use CUDA: True\n",
      "Use MPS: True\n",
      "\n",
      "Test set: Accuracy (u <= 0.5): 8816/10000 (88.16%)\n",
      "\tAccuracy (regardless of u): 9639/10000 (96.39%)\n",
      "\n"
     ]
    }
   ],
   "source": [
    "%matplotlib inline\n",
    "%load_ext autoreload\n",
    "%autoreload 2\n",
    "\n",
    "import torch\n",
    "import numpy as np\n",
    "\n",
    "from main import main, create_parser\n",
    "\n",
    "seed = 42\n",
    "np.random.seed(seed)\n",
    "torch.manual_seed(seed)\n",
    "torch.cuda.manual_seed(seed)\n",
    "torch.backends.cudnn.deterministic = True\n",
    "\n",
    "parser = create_parser()\n",
    "args = parser.parse_args(args=[\n",
    "    \"eval\",\n",
    "    \"--dataset\", \"mnist\",\n",
    "    \"--model\", \"lenet\",\n",
    "    \"--uncertainty\",\n",
    "\n",
    "    \"--checkpoint\", \"./checkpoints/model_uncertainty_mse.pt\",\n",
    "\n",
    "    \"--uncertainty-thresh\", \"0.5\",\n",
    "])\n",
    "main(args);"
   ]
  }
 ],
 "metadata": {
  "kernelspec": {
   "display_name": "gesture2",
   "language": "python",
   "name": "python3"
  },
  "language_info": {
   "codemirror_mode": {
    "name": "ipython",
    "version": 3
   },
   "file_extension": ".py",
   "mimetype": "text/x-python",
   "name": "python",
   "nbconvert_exporter": "python",
   "pygments_lexer": "ipython3",
   "version": "3.9.18"
  }
 },
 "nbformat": 4,
 "nbformat_minor": 2
}
